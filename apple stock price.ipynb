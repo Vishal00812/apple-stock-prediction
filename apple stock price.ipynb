{
 "cells": [
  {
   "cell_type": "code",
   "execution_count": 1,
   "id": "0bccb10e",
   "metadata": {},
   "outputs": [],
   "source": [
    "import numpy as np\n",
    "import pandas as pd\n",
    "import matplotlib.pyplot as plt"
   ]
  },
  {
   "cell_type": "code",
   "execution_count": 2,
   "id": "51549f38",
   "metadata": {},
   "outputs": [],
   "source": [
    "dataset=pd.read_csv('AAPL.csv')\n",
    "x=dataset.iloc[:,1:2]"
   ]
  },
  {
   "cell_type": "code",
   "execution_count": 3,
   "id": "ea21cacf",
   "metadata": {},
   "outputs": [
    {
     "name": "stdout",
     "output_type": "stream",
     "text": [
      "             Date        Open        High         Low       Close   Adj Close  \\\n",
      "0      1980-12-12    0.128348    0.128906    0.128348    0.128348    0.100178   \n",
      "1      1980-12-15    0.122210    0.122210    0.121652    0.121652    0.094952   \n",
      "2      1980-12-16    0.113281    0.113281    0.112723    0.112723    0.087983   \n",
      "3      1980-12-17    0.115513    0.116071    0.115513    0.115513    0.090160   \n",
      "4      1980-12-18    0.118862    0.119420    0.118862    0.118862    0.092774   \n",
      "...           ...         ...         ...         ...         ...         ...   \n",
      "10463  2022-06-13  132.869995  135.199997  131.440002  131.880005  131.880005   \n",
      "10464  2022-06-14  133.130005  133.889999  131.479996  132.759995  132.759995   \n",
      "10465  2022-06-15  134.289993  137.339996  132.160004  135.429993  135.429993   \n",
      "10466  2022-06-16  132.080002  132.389999  129.039993  130.059998  130.059998   \n",
      "10467  2022-06-17  130.070007  133.080002  129.809998  131.559998  131.559998   \n",
      "\n",
      "          Volume  \n",
      "0      469033600  \n",
      "1      175884800  \n",
      "2      105728000  \n",
      "3       86441600  \n",
      "4       73449600  \n",
      "...          ...  \n",
      "10463  122207100  \n",
      "10464   84784300  \n",
      "10465   91533000  \n",
      "10466  108123900  \n",
      "10467  134118500  \n",
      "\n",
      "[10468 rows x 7 columns]\n"
     ]
    }
   ],
   "source": [
    "print(dataset)"
   ]
  },
  {
   "cell_type": "code",
   "execution_count": 4,
   "id": "9a5f710d",
   "metadata": {},
   "outputs": [
    {
     "name": "stdout",
     "output_type": "stream",
     "text": [
      "             Open\n",
      "0        0.128348\n",
      "1        0.122210\n",
      "2        0.113281\n",
      "3        0.115513\n",
      "4        0.118862\n",
      "...           ...\n",
      "10463  132.869995\n",
      "10464  133.130005\n",
      "10465  134.289993\n",
      "10466  132.080002\n",
      "10467  130.070007\n",
      "\n",
      "[10468 rows x 1 columns]\n"
     ]
    }
   ],
   "source": [
    "print(x)"
   ]
  },
  {
   "cell_type": "code",
   "execution_count": 7,
   "id": "e4819717",
   "metadata": {},
   "outputs": [],
   "source": [
    "from sklearn.preprocessing import MinMaxScaler\n",
    "sc=MinMaxScaler(feature_range=(0,1))\n",
    "x_scaled=sc.fit_transform(x)"
   ]
  },
  {
   "cell_type": "code",
   "execution_count": 8,
   "id": "7dfa52af",
   "metadata": {},
   "outputs": [
    {
     "name": "stdout",
     "output_type": "stream",
     "text": [
      "[[4.30950014e-04]\n",
      " [3.97331936e-04]\n",
      " [3.48427437e-04]\n",
      " ...\n",
      " [7.35239774e-01]\n",
      " [7.23135563e-01]\n",
      " [7.12126738e-01]]\n"
     ]
    }
   ],
   "source": [
    "print(x_scaled)"
   ]
  },
  {
   "cell_type": "code",
   "execution_count": 10,
   "id": "f1b0bfb5",
   "metadata": {},
   "outputs": [],
   "source": [
    "x_train = []\n",
    "y_train = []\n",
    "for i in range(60, 10000):\n",
    "    x_train.append(x_scaled[i-60:i, 0])\n",
    "    y_train.append(x_scaled[i, 0])\n",
    "x_train, y_train = np.array(x_train), np.array(y_train)"
   ]
  },
  {
   "cell_type": "code",
   "execution_count": 11,
   "id": "3b4bc810",
   "metadata": {},
   "outputs": [
    {
     "data": {
      "text/plain": [
       "array([[4.30950014e-04, 3.97331936e-04, 3.48427437e-04, ...,\n",
       "        3.60652193e-04, 3.08696982e-04, 2.81185806e-04],\n",
       "       [3.97331936e-04, 3.48427437e-04, 3.60652193e-04, ...,\n",
       "        3.08696982e-04, 2.81185806e-04, 2.62848673e-04],\n",
       "       [3.48427437e-04, 3.60652193e-04, 3.78994803e-04, ...,\n",
       "        2.81185806e-04, 2.62848673e-04, 2.78129617e-04],\n",
       "       ...,\n",
       "       [4.34919948e-01, 4.27142555e-01, 4.16681429e-01, ...,\n",
       "        5.92343798e-01, 5.97451155e-01, 5.98793041e-01],\n",
       "       [4.27142555e-01, 4.16681429e-01, 4.10985307e-01, ...,\n",
       "        5.97451155e-01, 5.98793041e-01, 6.04420684e-01],\n",
       "       [4.16681429e-01, 4.10985307e-01, 4.28539228e-01, ...,\n",
       "        5.98793041e-01, 6.04420684e-01, 6.19756415e-01]])"
      ]
     },
     "execution_count": 11,
     "metadata": {},
     "output_type": "execute_result"
    }
   ],
   "source": [
    "x_train"
   ]
  },
  {
   "cell_type": "code",
   "execution_count": 12,
   "id": "34b7cc2a",
   "metadata": {},
   "outputs": [],
   "source": [
    "x_train=np.reshape(x_train,(x_train.shape[0],x_train.shape[1],1))"
   ]
  },
  {
   "cell_type": "code",
   "execution_count": 13,
   "id": "66f6813f",
   "metadata": {},
   "outputs": [
    {
     "data": {
      "text/plain": [
       "array([[[4.30950014e-04],\n",
       "        [3.97331936e-04],\n",
       "        [3.48427437e-04],\n",
       "        ...,\n",
       "        [3.60652193e-04],\n",
       "        [3.08696982e-04],\n",
       "        [2.81185806e-04]],\n",
       "\n",
       "       [[3.97331936e-04],\n",
       "        [3.48427437e-04],\n",
       "        [3.60652193e-04],\n",
       "        ...,\n",
       "        [3.08696982e-04],\n",
       "        [2.81185806e-04],\n",
       "        [2.62848673e-04]],\n",
       "\n",
       "       [[3.48427437e-04],\n",
       "        [3.60652193e-04],\n",
       "        [3.78994803e-04],\n",
       "        ...,\n",
       "        [2.81185806e-04],\n",
       "        [2.62848673e-04],\n",
       "        [2.78129617e-04]],\n",
       "\n",
       "       ...,\n",
       "\n",
       "       [[4.34919948e-01],\n",
       "        [4.27142555e-01],\n",
       "        [4.16681429e-01],\n",
       "        ...,\n",
       "        [5.92343798e-01],\n",
       "        [5.97451155e-01],\n",
       "        [5.98793041e-01]],\n",
       "\n",
       "       [[4.27142555e-01],\n",
       "        [4.16681429e-01],\n",
       "        [4.10985307e-01],\n",
       "        ...,\n",
       "        [5.97451155e-01],\n",
       "        [5.98793041e-01],\n",
       "        [6.04420684e-01]],\n",
       "\n",
       "       [[4.16681429e-01],\n",
       "        [4.10985307e-01],\n",
       "        [4.28539228e-01],\n",
       "        ...,\n",
       "        [5.98793041e-01],\n",
       "        [6.04420684e-01],\n",
       "        [6.19756415e-01]]])"
      ]
     },
     "execution_count": 13,
     "metadata": {},
     "output_type": "execute_result"
    }
   ],
   "source": [
    "x_train"
   ]
  },
  {
   "cell_type": "code",
   "execution_count": 14,
   "id": "609cd5ac",
   "metadata": {},
   "outputs": [],
   "source": [
    "from keras.models import Sequential\n",
    "from keras.layers import Dense\n",
    "from keras.layers import LSTM\n",
    "from keras.layers import Dropout"
   ]
  },
  {
   "cell_type": "code",
   "execution_count": 16,
   "id": "d5e27466",
   "metadata": {},
   "outputs": [],
   "source": [
    "regressor=Sequential()"
   ]
  },
  {
   "cell_type": "code",
   "execution_count": 18,
   "id": "7c654764",
   "metadata": {},
   "outputs": [],
   "source": [
    "regressor.add(LSTM(units = 50, return_sequences = True, input_shape = (x_train.shape[1], 1)))\n",
    "regressor.add(Dropout(0.2))"
   ]
  },
  {
   "cell_type": "code",
   "execution_count": 19,
   "id": "146fc7d2",
   "metadata": {},
   "outputs": [],
   "source": [
    "regressor.add(LSTM(units = 50, return_sequences = True))\n",
    "regressor.add(Dropout(0.2))"
   ]
  },
  {
   "cell_type": "code",
   "execution_count": 20,
   "id": "221571eb",
   "metadata": {},
   "outputs": [],
   "source": [
    "regressor.add(LSTM(units = 50, return_sequences = True))\n",
    "regressor.add(Dropout(0.2))"
   ]
  },
  {
   "cell_type": "code",
   "execution_count": 21,
   "id": "d9a946db",
   "metadata": {},
   "outputs": [],
   "source": [
    "regressor.add(LSTM(units = 50))\n",
    "regressor.add(Dropout(0.2))"
   ]
  },
  {
   "cell_type": "code",
   "execution_count": 22,
   "id": "117eb224",
   "metadata": {},
   "outputs": [],
   "source": [
    "regressor.add(Dense(units =1))"
   ]
  },
  {
   "cell_type": "code",
   "execution_count": 23,
   "id": "b16a8379",
   "metadata": {},
   "outputs": [],
   "source": [
    "regressor.compile(optimizer='adam',loss='mean_squared_error')"
   ]
  },
  {
   "cell_type": "code",
   "execution_count": 25,
   "id": "59c69d49",
   "metadata": {},
   "outputs": [
    {
     "name": "stdout",
     "output_type": "stream",
     "text": [
      "Epoch 1/100\n",
      "100/100 [==============================] - 28s 191ms/step - loss: 7.0499e-04\n",
      "Epoch 2/100\n",
      "100/100 [==============================] - 17s 173ms/step - loss: 2.1097e-04\n",
      "Epoch 3/100\n",
      "100/100 [==============================] - 17s 175ms/step - loss: 1.7761e-04\n",
      "Epoch 4/100\n",
      "100/100 [==============================] - 19s 186ms/step - loss: 1.8452e-04\n",
      "Epoch 5/100\n",
      "100/100 [==============================] - 18s 175ms/step - loss: 1.4108e-04\n",
      "Epoch 6/100\n",
      "100/100 [==============================] - 21s 205ms/step - loss: 1.4418e-04\n",
      "Epoch 7/100\n",
      "100/100 [==============================] - 21s 208ms/step - loss: 1.5107e-04\n",
      "Epoch 8/100\n",
      "100/100 [==============================] - 21s 206ms/step - loss: 1.3820e-04\n",
      "Epoch 9/100\n",
      "100/100 [==============================] - 20s 197ms/step - loss: 1.2868e-04\n",
      "Epoch 10/100\n",
      "100/100 [==============================] - 18s 184ms/step - loss: 1.1628e-04\n",
      "Epoch 11/100\n",
      "100/100 [==============================] - 18s 178ms/step - loss: 1.2937e-04\n",
      "Epoch 12/100\n",
      "100/100 [==============================] - 18s 183ms/step - loss: 1.2603e-04\n",
      "Epoch 13/100\n",
      "100/100 [==============================] - 19s 186ms/step - loss: 1.3310e-04\n",
      "Epoch 14/100\n",
      "100/100 [==============================] - 18s 184ms/step - loss: 1.1313e-04\n",
      "Epoch 15/100\n",
      "100/100 [==============================] - 19s 190ms/step - loss: 1.0680e-04\n",
      "Epoch 16/100\n",
      "100/100 [==============================] - 20s 199ms/step - loss: 1.0083e-04\n",
      "Epoch 17/100\n",
      "100/100 [==============================] - 20s 202ms/step - loss: 1.0206e-04\n",
      "Epoch 18/100\n",
      "100/100 [==============================] - 19s 186ms/step - loss: 1.0740e-04\n",
      "Epoch 19/100\n",
      "100/100 [==============================] - 21s 210ms/step - loss: 9.8890e-05\n",
      "Epoch 20/100\n",
      "100/100 [==============================] - 18s 175ms/step - loss: 1.2719e-04\n",
      "Epoch 21/100\n",
      "100/100 [==============================] - 17s 172ms/step - loss: 9.6598e-05\n",
      "Epoch 22/100\n",
      "100/100 [==============================] - 18s 182ms/step - loss: 9.2944e-05\n",
      "Epoch 23/100\n",
      "100/100 [==============================] - 20s 200ms/step - loss: 1.0004e-04\n",
      "Epoch 24/100\n",
      "100/100 [==============================] - 18s 184ms/step - loss: 9.3124e-05\n",
      "Epoch 25/100\n",
      "100/100 [==============================] - 19s 187ms/step - loss: 1.0324e-04\n",
      "Epoch 26/100\n",
      "100/100 [==============================] - 18s 184ms/step - loss: 1.0558e-04\n",
      "Epoch 27/100\n",
      "100/100 [==============================] - 21s 213ms/step - loss: 1.1012e-04\n",
      "Epoch 28/100\n",
      "100/100 [==============================] - 19s 194ms/step - loss: 9.7805e-05\n",
      "Epoch 29/100\n",
      "100/100 [==============================] - 19s 186ms/step - loss: 1.0074e-04\n",
      "Epoch 30/100\n",
      "100/100 [==============================] - 22s 222ms/step - loss: 1.0118e-04\n",
      "Epoch 31/100\n",
      "100/100 [==============================] - 19s 188ms/step - loss: 8.9147e-05\n",
      "Epoch 32/100\n",
      "100/100 [==============================] - 18s 176ms/step - loss: 1.1318e-04\n",
      "Epoch 33/100\n",
      "100/100 [==============================] - 18s 179ms/step - loss: 1.1257e-04\n",
      "Epoch 34/100\n",
      "100/100 [==============================] - 28s 286ms/step - loss: 8.7888e-05\n",
      "Epoch 35/100\n",
      "100/100 [==============================] - 26s 263ms/step - loss: 9.3503e-05\n",
      "Epoch 36/100\n",
      "100/100 [==============================] - 27s 267ms/step - loss: 8.1412e-05\n",
      "Epoch 37/100\n",
      "100/100 [==============================] - 23s 232ms/step - loss: 9.3843e-05\n",
      "Epoch 38/100\n",
      "100/100 [==============================] - 22s 215ms/step - loss: 1.0652e-04\n",
      "Epoch 39/100\n",
      "100/100 [==============================] - 19s 190ms/step - loss: 9.3478e-05\n",
      "Epoch 40/100\n",
      "100/100 [==============================] - 20s 198ms/step - loss: 9.4753e-05\n",
      "Epoch 41/100\n",
      "100/100 [==============================] - 18s 180ms/step - loss: 8.7048e-05\n",
      "Epoch 42/100\n",
      "100/100 [==============================] - 19s 188ms/step - loss: 8.6058e-05\n",
      "Epoch 43/100\n",
      "100/100 [==============================] - 18s 181ms/step - loss: 8.8029e-05\n",
      "Epoch 44/100\n",
      "100/100 [==============================] - 20s 202ms/step - loss: 8.7891e-05\n",
      "Epoch 45/100\n",
      "100/100 [==============================] - 20s 197ms/step - loss: 8.6787e-05\n",
      "Epoch 46/100\n",
      "100/100 [==============================] - 19s 191ms/step - loss: 1.1810e-04\n",
      "Epoch 47/100\n",
      "100/100 [==============================] - 25s 255ms/step - loss: 9.1789e-05\n",
      "Epoch 48/100\n",
      "100/100 [==============================] - 23s 231ms/step - loss: 8.9882e-05\n",
      "Epoch 49/100\n",
      "100/100 [==============================] - 28s 285ms/step - loss: 8.5736e-05\n",
      "Epoch 50/100\n",
      "100/100 [==============================] - 25s 253ms/step - loss: 8.3305e-05\n",
      "Epoch 51/100\n",
      "100/100 [==============================] - 26s 261ms/step - loss: 8.7688e-05\n",
      "Epoch 52/100\n",
      "100/100 [==============================] - 26s 262ms/step - loss: 9.3284e-05\n",
      "Epoch 53/100\n",
      "100/100 [==============================] - 28s 277ms/step - loss: 8.9361e-05\n",
      "Epoch 54/100\n",
      "100/100 [==============================] - 26s 262ms/step - loss: 9.4341e-05\n",
      "Epoch 55/100\n",
      "100/100 [==============================] - 26s 265ms/step - loss: 7.8413e-05\n",
      "Epoch 56/100\n",
      "100/100 [==============================] - 20s 203ms/step - loss: 8.3414e-05\n",
      "Epoch 57/100\n",
      "100/100 [==============================] - 19s 193ms/step - loss: 9.1978e-05\n",
      "Epoch 58/100\n",
      "100/100 [==============================] - 24s 244ms/step - loss: 8.0946e-05\n",
      "Epoch 59/100\n",
      "100/100 [==============================] - 23s 234ms/step - loss: 9.9941e-05\n",
      "Epoch 60/100\n",
      "100/100 [==============================] - 28s 284ms/step - loss: 8.3703e-05\n",
      "Epoch 61/100\n",
      "100/100 [==============================] - 29s 288ms/step - loss: 7.7550e-05\n",
      "Epoch 62/100\n",
      "100/100 [==============================] - 26s 256ms/step - loss: 8.8705e-05\n",
      "Epoch 63/100\n",
      "100/100 [==============================] - 28s 283ms/step - loss: 7.3331e-05\n",
      "Epoch 64/100\n",
      "100/100 [==============================] - 25s 252ms/step - loss: 8.6321e-05\n",
      "Epoch 65/100\n",
      "100/100 [==============================] - 21s 211ms/step - loss: 7.8050e-05\n",
      "Epoch 66/100\n",
      "100/100 [==============================] - 23s 225ms/step - loss: 8.2426e-05\n",
      "Epoch 67/100\n",
      "100/100 [==============================] - 22s 218ms/step - loss: 7.5825e-05\n",
      "Epoch 68/100\n",
      "100/100 [==============================] - 22s 220ms/step - loss: 8.2467e-05\n",
      "Epoch 69/100\n",
      "100/100 [==============================] - 19s 186ms/step - loss: 7.4367e-05\n",
      "Epoch 70/100\n",
      "100/100 [==============================] - 19s 191ms/step - loss: 8.5048e-05\n",
      "Epoch 71/100\n",
      "100/100 [==============================] - 18s 182ms/step - loss: 8.7807e-05\n",
      "Epoch 72/100\n",
      "100/100 [==============================] - 19s 188ms/step - loss: 8.3667e-05\n",
      "Epoch 73/100\n",
      "100/100 [==============================] - 19s 194ms/step - loss: 7.6741e-05\n",
      "Epoch 74/100\n",
      "100/100 [==============================] - 22s 215ms/step - loss: 9.1536e-05\n",
      "Epoch 75/100\n",
      "100/100 [==============================] - 19s 186ms/step - loss: 9.6092e-05\n",
      "Epoch 76/100\n",
      "100/100 [==============================] - 23s 229ms/step - loss: 7.1729e-05\n",
      "Epoch 77/100\n",
      "100/100 [==============================] - 18s 184ms/step - loss: 7.9995e-05\n",
      "Epoch 78/100\n",
      "100/100 [==============================] - 17s 169ms/step - loss: 7.8702e-05\n",
      "Epoch 79/100\n",
      "100/100 [==============================] - 22s 225ms/step - loss: 8.1468e-05\n",
      "Epoch 80/100\n",
      "100/100 [==============================] - 20s 204ms/step - loss: 8.6072e-05\n",
      "Epoch 81/100\n",
      "100/100 [==============================] - 21s 208ms/step - loss: 8.4613e-05\n",
      "Epoch 82/100\n",
      "100/100 [==============================] - 21s 205ms/step - loss: 8.9951e-05\n",
      "Epoch 83/100\n",
      "100/100 [==============================] - 22s 225ms/step - loss: 9.0919e-05\n",
      "Epoch 84/100\n",
      "100/100 [==============================] - 22s 223ms/step - loss: 7.8637e-05\n",
      "Epoch 85/100\n",
      "100/100 [==============================] - 24s 241ms/step - loss: 7.3230e-05\n",
      "Epoch 86/100\n",
      "100/100 [==============================] - 20s 196ms/step - loss: 7.8027e-05\n",
      "Epoch 87/100\n",
      "100/100 [==============================] - 24s 240ms/step - loss: 7.6590e-05\n",
      "Epoch 88/100\n",
      "100/100 [==============================] - 20s 197ms/step - loss: 7.8456e-05\n",
      "Epoch 89/100\n",
      "100/100 [==============================] - 21s 211ms/step - loss: 7.8049e-05\n",
      "Epoch 90/100\n",
      "100/100 [==============================] - 22s 215ms/step - loss: 8.6720e-05\n",
      "Epoch 91/100\n",
      "100/100 [==============================] - 24s 241ms/step - loss: 7.8216e-05\n",
      "Epoch 92/100\n"
     ]
    },
    {
     "name": "stdout",
     "output_type": "stream",
     "text": [
      "100/100 [==============================] - 23s 225ms/step - loss: 7.1603e-05\n",
      "Epoch 93/100\n",
      "100/100 [==============================] - 23s 227ms/step - loss: 8.4178e-05\n",
      "Epoch 94/100\n",
      "100/100 [==============================] - 21s 206ms/step - loss: 7.5531e-05\n",
      "Epoch 95/100\n",
      "100/100 [==============================] - 20s 201ms/step - loss: 7.1620e-05\n",
      "Epoch 96/100\n",
      "100/100 [==============================] - 25s 246ms/step - loss: 8.2347e-05\n",
      "Epoch 97/100\n",
      "100/100 [==============================] - 21s 210ms/step - loss: 8.0301e-05\n",
      "Epoch 98/100\n",
      "100/100 [==============================] - 18s 184ms/step - loss: 8.3165e-05\n",
      "Epoch 99/100\n",
      "100/100 [==============================] - 25s 255ms/step - loss: 8.2613e-05\n",
      "Epoch 100/100\n",
      "100/100 [==============================] - 22s 218ms/step - loss: 8.3568e-05\n"
     ]
    },
    {
     "data": {
      "text/plain": [
       "<keras.callbacks.History at 0x25aa70fb550>"
      ]
     },
     "execution_count": 25,
     "metadata": {},
     "output_type": "execute_result"
    }
   ],
   "source": [
    "regressor.fit(x_train,y_train,epochs=100,batch_size=100)"
   ]
  },
  {
   "cell_type": "code",
   "execution_count": 29,
   "id": "cd82c93d",
   "metadata": {},
   "outputs": [],
   "source": [
    "dataset2=pd.read_csv('AAPL2.csv')\n",
    "test=dataset2.iloc[:,1:2].values"
   ]
  },
  {
   "cell_type": "code",
   "execution_count": 30,
   "id": "6d583822",
   "metadata": {},
   "outputs": [
    {
     "data": {
      "text/html": [
       "<div>\n",
       "<style scoped>\n",
       "    .dataframe tbody tr th:only-of-type {\n",
       "        vertical-align: middle;\n",
       "    }\n",
       "\n",
       "    .dataframe tbody tr th {\n",
       "        vertical-align: top;\n",
       "    }\n",
       "\n",
       "    .dataframe thead th {\n",
       "        text-align: right;\n",
       "    }\n",
       "</style>\n",
       "<table border=\"1\" class=\"dataframe\">\n",
       "  <thead>\n",
       "    <tr style=\"text-align: right;\">\n",
       "      <th></th>\n",
       "      <th>Date</th>\n",
       "      <th>Open</th>\n",
       "      <th>High</th>\n",
       "      <th>Low</th>\n",
       "      <th>Close</th>\n",
       "      <th>Adj Close</th>\n",
       "      <th>Volume</th>\n",
       "    </tr>\n",
       "  </thead>\n",
       "  <tbody>\n",
       "    <tr>\n",
       "      <th>0</th>\n",
       "      <td>2022-01-05</td>\n",
       "      <td>179.610001</td>\n",
       "      <td>180.169998</td>\n",
       "      <td>174.639999</td>\n",
       "      <td>174.919998</td>\n",
       "      <td>173.910660</td>\n",
       "      <td>94537600</td>\n",
       "    </tr>\n",
       "    <tr>\n",
       "      <th>1</th>\n",
       "      <td>2022-01-06</td>\n",
       "      <td>172.699997</td>\n",
       "      <td>175.300003</td>\n",
       "      <td>171.639999</td>\n",
       "      <td>172.000000</td>\n",
       "      <td>171.007507</td>\n",
       "      <td>96904000</td>\n",
       "    </tr>\n",
       "    <tr>\n",
       "      <th>2</th>\n",
       "      <td>2022-01-07</td>\n",
       "      <td>172.889999</td>\n",
       "      <td>174.139999</td>\n",
       "      <td>171.029999</td>\n",
       "      <td>172.169998</td>\n",
       "      <td>171.176529</td>\n",
       "      <td>86709100</td>\n",
       "    </tr>\n",
       "    <tr>\n",
       "      <th>3</th>\n",
       "      <td>2022-01-10</td>\n",
       "      <td>169.080002</td>\n",
       "      <td>172.500000</td>\n",
       "      <td>168.169998</td>\n",
       "      <td>172.190002</td>\n",
       "      <td>171.196411</td>\n",
       "      <td>106765600</td>\n",
       "    </tr>\n",
       "    <tr>\n",
       "      <th>4</th>\n",
       "      <td>2022-01-11</td>\n",
       "      <td>172.320007</td>\n",
       "      <td>175.179993</td>\n",
       "      <td>170.820007</td>\n",
       "      <td>175.080002</td>\n",
       "      <td>174.069733</td>\n",
       "      <td>76138300</td>\n",
       "    </tr>\n",
       "    <tr>\n",
       "      <th>...</th>\n",
       "      <td>...</td>\n",
       "      <td>...</td>\n",
       "      <td>...</td>\n",
       "      <td>...</td>\n",
       "      <td>...</td>\n",
       "      <td>...</td>\n",
       "      <td>...</td>\n",
       "    </tr>\n",
       "    <tr>\n",
       "      <th>246</th>\n",
       "      <td>2022-12-28</td>\n",
       "      <td>129.669998</td>\n",
       "      <td>131.029999</td>\n",
       "      <td>125.870003</td>\n",
       "      <td>126.040001</td>\n",
       "      <td>126.040001</td>\n",
       "      <td>85438400</td>\n",
       "    </tr>\n",
       "    <tr>\n",
       "      <th>247</th>\n",
       "      <td>2022-12-29</td>\n",
       "      <td>127.989998</td>\n",
       "      <td>130.479996</td>\n",
       "      <td>127.730003</td>\n",
       "      <td>129.610001</td>\n",
       "      <td>129.610001</td>\n",
       "      <td>75703700</td>\n",
       "    </tr>\n",
       "    <tr>\n",
       "      <th>248</th>\n",
       "      <td>2022-12-30</td>\n",
       "      <td>128.410004</td>\n",
       "      <td>129.949997</td>\n",
       "      <td>127.430000</td>\n",
       "      <td>129.929993</td>\n",
       "      <td>129.929993</td>\n",
       "      <td>76960600</td>\n",
       "    </tr>\n",
       "    <tr>\n",
       "      <th>249</th>\n",
       "      <td>2023-01-03</td>\n",
       "      <td>130.279999</td>\n",
       "      <td>130.899994</td>\n",
       "      <td>124.169998</td>\n",
       "      <td>125.070000</td>\n",
       "      <td>125.070000</td>\n",
       "      <td>112117500</td>\n",
       "    </tr>\n",
       "    <tr>\n",
       "      <th>250</th>\n",
       "      <td>2023-01-04</td>\n",
       "      <td>126.889999</td>\n",
       "      <td>128.660004</td>\n",
       "      <td>125.080002</td>\n",
       "      <td>126.360001</td>\n",
       "      <td>126.360001</td>\n",
       "      <td>88886500</td>\n",
       "    </tr>\n",
       "  </tbody>\n",
       "</table>\n",
       "<p>251 rows × 7 columns</p>\n",
       "</div>"
      ],
      "text/plain": [
       "           Date        Open        High         Low       Close   Adj Close  \\\n",
       "0    2022-01-05  179.610001  180.169998  174.639999  174.919998  173.910660   \n",
       "1    2022-01-06  172.699997  175.300003  171.639999  172.000000  171.007507   \n",
       "2    2022-01-07  172.889999  174.139999  171.029999  172.169998  171.176529   \n",
       "3    2022-01-10  169.080002  172.500000  168.169998  172.190002  171.196411   \n",
       "4    2022-01-11  172.320007  175.179993  170.820007  175.080002  174.069733   \n",
       "..          ...         ...         ...         ...         ...         ...   \n",
       "246  2022-12-28  129.669998  131.029999  125.870003  126.040001  126.040001   \n",
       "247  2022-12-29  127.989998  130.479996  127.730003  129.610001  129.610001   \n",
       "248  2022-12-30  128.410004  129.949997  127.430000  129.929993  129.929993   \n",
       "249  2023-01-03  130.279999  130.899994  124.169998  125.070000  125.070000   \n",
       "250  2023-01-04  126.889999  128.660004  125.080002  126.360001  126.360001   \n",
       "\n",
       "        Volume  \n",
       "0     94537600  \n",
       "1     96904000  \n",
       "2     86709100  \n",
       "3    106765600  \n",
       "4     76138300  \n",
       "..         ...  \n",
       "246   85438400  \n",
       "247   75703700  \n",
       "248   76960600  \n",
       "249  112117500  \n",
       "250   88886500  \n",
       "\n",
       "[251 rows x 7 columns]"
      ]
     },
     "execution_count": 30,
     "metadata": {},
     "output_type": "execute_result"
    }
   ],
   "source": [
    "dataset2"
   ]
  },
  {
   "cell_type": "code",
   "execution_count": 1,
   "id": "0cbfc10c",
   "metadata": {},
   "outputs": [
    {
     "ename": "NameError",
     "evalue": "name 'pd' is not defined",
     "output_type": "error",
     "traceback": [
      "\u001b[1;31m---------------------------------------------------------------------------\u001b[0m",
      "\u001b[1;31mNameError\u001b[0m                                 Traceback (most recent call last)",
      "Cell \u001b[1;32mIn [1], line 1\u001b[0m\n\u001b[1;32m----> 1\u001b[0m dataset_total \u001b[38;5;241m=\u001b[39m \u001b[43mpd\u001b[49m\u001b[38;5;241m.\u001b[39mconcat((dataset[\u001b[38;5;124m'\u001b[39m\u001b[38;5;124mOpen\u001b[39m\u001b[38;5;124m'\u001b[39m], dataset2[\u001b[38;5;124m'\u001b[39m\u001b[38;5;124mOpen\u001b[39m\u001b[38;5;124m'\u001b[39m]), axis \u001b[38;5;241m=\u001b[39m \u001b[38;5;241m0\u001b[39m)\n\u001b[0;32m      2\u001b[0m inputs \u001b[38;5;241m=\u001b[39m dataset_total[\u001b[38;5;28mlen\u001b[39m(dataset_total) \u001b[38;5;241m-\u001b[39m \u001b[38;5;28mlen\u001b[39m(dataset2) \u001b[38;5;241m-\u001b[39m \u001b[38;5;241m100\u001b[39m:]\u001b[38;5;241m.\u001b[39mvalues\n\u001b[0;32m      3\u001b[0m inputs \u001b[38;5;241m=\u001b[39m inputs\u001b[38;5;241m.\u001b[39mreshape(\u001b[38;5;241m-\u001b[39m\u001b[38;5;241m1\u001b[39m,\u001b[38;5;241m1\u001b[39m)\n",
      "\u001b[1;31mNameError\u001b[0m: name 'pd' is not defined"
     ]
    }
   ],
   "source": [
    "dataset_total = pd.concat((dataset['Open'], dataset2['Open']), axis = 0)\n",
    "inputs = dataset_total[len(dataset_total) - len(dataset2) - 100:].values\n",
    "inputs = inputs.reshape(-1,1)\n",
    "inputs = sc.transform(inputs)\n",
    "X_test = []\n",
    "for i in range(60, 300):\n",
    "    X_test.append(inputs[i-60:i, 0])\n",
    "X_test = np.array(X_test)\n",
    "X_test = np.reshape(X_test, (X_test.shape[0], X_test.shape[1], 1))\n",
    "predicted_stock_price = regressor.predict(X_test)\n",
    "predicted_stock_price = sc.inverse_transform(predicted_stock_price)"
   ]
  },
  {
   "cell_type": "code",
   "execution_count": 46,
   "id": "7ea09476",
   "metadata": {},
   "outputs": [
    {
     "data": {
      "image/png": "[encoded data removed]",
      "text/plain": [
       "<Figure size 640x480 with 1 Axes>"
      ]
     },
     "metadata": {},
     "output_type": "display_data"
    }
   ],
   "source": [
    "plt.plot(test, color = 'red', label = 'Real apple Stock Price')\n",
    "plt.plot(predicted_stock_price, color = 'blue', label = 'Predicted apple Stock Price')\n",
    "plt.title('apple Stock Price Prediction')\n",
    "plt.xlabel('Time')\n",
    "plt.ylabel('apple Stock Price')\n",
    "plt.legend()\n",
    "plt.show()"
   ]
  }
 ],
 "metadata": {
  "kernelspec": {
   "display_name": "Python 3 (ipykernel)",
   "language": "python",
   "name": "python3"
  },
  "language_info": {
   "codemirror_mode": {
    "name": "ipython",
    "version": 3
   },
   "file_extension": ".py",
   "mimetype": "text/x-python",
   "name": "python",
   "nbconvert_exporter": "python",
   "pygments_lexer": "ipython3",
   "version": "3.10.7"
  },
  "vscode": {
   "interpreter": {
    "hash": "7c2d58702b6deac834370ddf2169e6e9cd79be68c2f56ad3623a75485672acfe"
   }
  }
 },
 "nbformat": 4,
 "nbformat_minor": 5
}
